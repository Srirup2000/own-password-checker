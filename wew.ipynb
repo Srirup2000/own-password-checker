{
 "cells": [
  {
   "cell_type": "code",
   "execution_count": 1,
   "metadata": {},
   "outputs": [],
   "source": [
    "import re\n",
    "import glob\n",
    "import pandas as pd\n",
    "import json\n",
    "import os"
   ]
  },
  {
   "cell_type": "code",
   "execution_count": 15,
   "metadata": {},
   "outputs": [
    {
     "name": "stderr",
     "output_type": "stream",
     "text": [
      "<>:1: SyntaxWarning: invalid escape sequence '\\*'\n",
      "<>:1: SyntaxWarning: invalid escape sequence '\\*'\n",
      "C:\\Users\\Sriru\\AppData\\Local\\Temp\\ipykernel_7952\\664610473.py:1: SyntaxWarning: invalid escape sequence '\\*'\n",
      "  glob.glob('retail_db\\**', recursive=True)\n"
     ]
    },
    {
     "data": {
      "text/plain": [
       "[]"
      ]
     },
     "execution_count": 15,
     "metadata": {},
     "output_type": "execute_result"
    }
   ],
   "source": [
    "glob.glob('retail_db\\**', recursive=True)"
   ]
  },
  {
   "cell_type": "code",
   "execution_count": 16,
   "metadata": {},
   "outputs": [
    {
     "name": "stderr",
     "output_type": "stream",
     "text": [
      "<>:7: SyntaxWarning: invalid escape sequence '\\]'\n",
      "<>:7: SyntaxWarning: invalid escape sequence '\\]'\n",
      "C:\\Users\\Sriru\\AppData\\Local\\Temp\\ipykernel_7952\\2451965545.py:7: SyntaxWarning: invalid escape sequence '\\]'\n",
      "  file_path_list = re.split('[/\\\\\\]', file)\n"
     ]
    }
   ],
   "source": [
    "def get_column_names(schemas,ds_name, sorting_key = 'column_position'):\n",
    "    column_details = schemas[ds_name]\n",
    "    columns = sorted(column_details, key= lambda col:col[sorting_key])\n",
    "    return [col['column_name'] for col in columns]\n",
    "    \n",
    "def read_csv(file, schemas):\n",
    "    file_path_list = re.split('[/\\\\\\]', file)\n",
    "    ds_name = file_path_list[1]\n",
    "    file_name = file_path_list[2]\n",
    "    columns = get_column_names(schemas,ds_name)\n",
    "    df = pd.read_csv(file,names=columns)\n",
    "    return df"
   ]
  },
  {
   "cell_type": "code",
   "execution_count": 18,
   "metadata": {},
   "outputs": [
    {
     "name": "stderr",
     "output_type": "stream",
     "text": [
      "<>:1: SyntaxWarning: invalid escape sequence '\\s'\n",
      "<>:1: SyntaxWarning: invalid escape sequence '\\s'\n",
      "C:\\Users\\Sriru\\AppData\\Local\\Temp\\ipykernel_7952\\3177772763.py:1: SyntaxWarning: invalid escape sequence '\\s'\n",
      "  schemas = json.load(open('retail_db\\schemas.json'))\n"
     ]
    },
    {
     "ename": "FileNotFoundError",
     "evalue": "[Errno 2] No such file or directory: 'retail_db\\\\schemas.json'",
     "output_type": "error",
     "traceback": [
      "\u001b[1;31m---------------------------------------------------------------------------\u001b[0m",
      "\u001b[1;31mFileNotFoundError\u001b[0m                         Traceback (most recent call last)",
      "Cell \u001b[1;32mIn[18], line 1\u001b[0m\n\u001b[1;32m----> 1\u001b[0m schemas \u001b[38;5;241m=\u001b[39m json\u001b[38;5;241m.\u001b[39mload(\u001b[38;5;28mopen\u001b[39m(\u001b[38;5;124m'\u001b[39m\u001b[38;5;124mretail_db\u001b[39m\u001b[38;5;124m\\\u001b[39m\u001b[38;5;124mschemas.json\u001b[39m\u001b[38;5;124m'\u001b[39m))\n\u001b[0;32m      2\u001b[0m orders_columns \u001b[38;5;241m=\u001b[39m get_column_names(schemas, \u001b[38;5;124m'\u001b[39m\u001b[38;5;124morders\u001b[39m\u001b[38;5;124m'\u001b[39m)\n\u001b[0;32m      3\u001b[0m orders_columns\n",
      "File \u001b[1;32mc:\\Users\\Sriru\\anaconda3_2024\\Lib\\site-packages\\IPython\\core\\interactiveshell.py:324\u001b[0m, in \u001b[0;36m_modified_open\u001b[1;34m(file, *args, **kwargs)\u001b[0m\n\u001b[0;32m    317\u001b[0m \u001b[38;5;28;01mif\u001b[39;00m file \u001b[38;5;129;01min\u001b[39;00m {\u001b[38;5;241m0\u001b[39m, \u001b[38;5;241m1\u001b[39m, \u001b[38;5;241m2\u001b[39m}:\n\u001b[0;32m    318\u001b[0m     \u001b[38;5;28;01mraise\u001b[39;00m \u001b[38;5;167;01mValueError\u001b[39;00m(\n\u001b[0;32m    319\u001b[0m         \u001b[38;5;124mf\u001b[39m\u001b[38;5;124m\"\u001b[39m\u001b[38;5;124mIPython won\u001b[39m\u001b[38;5;124m'\u001b[39m\u001b[38;5;124mt let you open fd=\u001b[39m\u001b[38;5;132;01m{\u001b[39;00mfile\u001b[38;5;132;01m}\u001b[39;00m\u001b[38;5;124m by default \u001b[39m\u001b[38;5;124m\"\u001b[39m\n\u001b[0;32m    320\u001b[0m         \u001b[38;5;124m\"\u001b[39m\u001b[38;5;124mas it is likely to crash IPython. If you know what you are doing, \u001b[39m\u001b[38;5;124m\"\u001b[39m\n\u001b[0;32m    321\u001b[0m         \u001b[38;5;124m\"\u001b[39m\u001b[38;5;124myou can use builtins\u001b[39m\u001b[38;5;124m'\u001b[39m\u001b[38;5;124m open.\u001b[39m\u001b[38;5;124m\"\u001b[39m\n\u001b[0;32m    322\u001b[0m     )\n\u001b[1;32m--> 324\u001b[0m \u001b[38;5;28;01mreturn\u001b[39;00m io_open(file, \u001b[38;5;241m*\u001b[39margs, \u001b[38;5;241m*\u001b[39m\u001b[38;5;241m*\u001b[39mkwargs)\n",
      "\u001b[1;31mFileNotFoundError\u001b[0m: [Errno 2] No such file or directory: 'retail_db\\\\schemas.json'"
     ]
    }
   ],
   "source": [
    "schemas = json.load(open('retail_db\\schemas.json'))\n",
    "orders_columns = get_column_names(schemas, 'orders')\n",
    "orders_columns\n",
    "\n"
   ]
  },
  {
   "cell_type": "code",
   "execution_count": 5,
   "metadata": {},
   "outputs": [
    {
     "name": "stderr",
     "output_type": "stream",
     "text": [
      "<>:1: SyntaxWarning: invalid escape sequence '\\o'\n",
      "<>:1: SyntaxWarning: invalid escape sequence '\\o'\n",
      "C:\\Users\\Sriru\\AppData\\Local\\Temp\\ipykernel_6188\\2500349930.py:1: SyntaxWarning: invalid escape sequence '\\o'\n",
      "  df = read_csv('retail_db\\orders\\part-00000', schemas)\n"
     ]
    }
   ],
   "source": [
    "df = read_csv('retail_db\\orders\\part-00000', schemas)"
   ]
  },
  {
   "cell_type": "code",
   "execution_count": 6,
   "metadata": {},
   "outputs": [],
   "source": [
    "def to_json(df,tgt_base_dir,ds_name,file_name):\n",
    "    json_file_path = f'{tgt_base_dir}/{ds_name}/{file_name}'\n",
    "    os.makedirs(f'{tgt_base_dir}/{ds_name}',exist_ok =True)\n",
    "    df.to_json(\n",
    "        json_file_path,\n",
    "        orient = 'records',\n",
    "        lines = True\n",
    "    )"
   ]
  },
  {
   "cell_type": "code",
   "execution_count": 7,
   "metadata": {},
   "outputs": [],
   "source": [
    "to_json(df,'retail_db_json','orders','part-00000')"
   ]
  },
  {
   "cell_type": "code",
   "execution_count": 8,
   "metadata": {},
   "outputs": [
    {
     "name": "stderr",
     "output_type": "stream",
     "text": [
      "<>:10: SyntaxWarning: invalid escape sequence '\\]'\n",
      "<>:10: SyntaxWarning: invalid escape sequence '\\]'\n",
      "C:\\Users\\Sriru\\AppData\\Local\\Temp\\ipykernel_6188\\864005811.py:10: SyntaxWarning: invalid escape sequence '\\]'\n",
      "  file_name = re.split('[/\\\\\\]', file)[2]\n"
     ]
    }
   ],
   "source": [
    "def file_converter(ds_name):\n",
    "    src_base_dir = 'retail_db'\n",
    "    tgt_base_dir = 'retail_db_json'\n",
    "\n",
    "    schemas = json.load(open(f'{src_base_dir}/schemas.json'))\n",
    "    files = glob.glob(f'{src_base_dir}/{ds_name}/part-*')\n",
    "\n",
    "    for file in files:\n",
    "        df = read_csv(file,schemas)\n",
    "        file_name = re.split('[/\\\\\\]', file)[2]\n",
    "        to_json(df,tgt_base_dir, ds_name, file_name)"
   ]
  },
  {
   "cell_type": "code",
   "execution_count": 9,
   "metadata": {},
   "outputs": [],
   "source": [
    "file_converter('orders')"
   ]
  },
  {
   "cell_type": "code",
   "execution_count": 10,
   "metadata": {},
   "outputs": [
    {
     "name": "stderr",
     "output_type": "stream",
     "text": [
      "<>:10: SyntaxWarning: invalid escape sequence '\\]'\n",
      "<>:10: SyntaxWarning: invalid escape sequence '\\]'\n",
      "C:\\Users\\Sriru\\AppData\\Local\\Temp\\ipykernel_6188\\2128812480.py:10: SyntaxWarning: invalid escape sequence '\\]'\n",
      "  file_name = re.split('[/\\\\\\]', file)[2]\n"
     ]
    }
   ],
   "source": [
    "def file_converter2(src_base_dir, tgt_base_dir, ds_name):\n",
    "    # src_base_dir = 'retail_db'\n",
    "    # tgt_base_dir = 'retail_db_json'\n",
    "\n",
    "    schemas = json.load(open(f'{src_base_dir}/schemas.json'))\n",
    "    files = glob.glob(f'{src_base_dir}/{ds_name}/part-*')\n",
    "\n",
    "    for file in files:\n",
    "        df = read_csv(file,schemas)\n",
    "        file_name = re.split('[/\\\\\\]', file)[2]\n",
    "        to_json(df,tgt_base_dir, ds_name, file_name)"
   ]
  },
  {
   "cell_type": "code",
   "execution_count": 11,
   "metadata": {},
   "outputs": [],
   "source": [
    "file_converter2('retail_db','retail_db_json','order_items')"
   ]
  },
  {
   "cell_type": "code",
   "execution_count": 12,
   "metadata": {},
   "outputs": [],
   "source": [
    "def process_files(ds_names=None):\n",
    "    src_base_dir = 'retail_db'\n",
    "    tgt_base_dir = 'retail_db_json'\n",
    "    schemas = json.load(open(f'{src_base_dir}/schemas.json'))\n",
    "    if not ds_names:\n",
    "        ds_names = schemas.keys()\n",
    "    for ds_name in ds_names:\n",
    "        print(f'Processing {ds_name}')\n",
    "        file_converter2(src_base_dir, tgt_base_dir, ds_name)"
   ]
  },
  {
   "cell_type": "code",
   "execution_count": 15,
   "metadata": {},
   "outputs": [
    {
     "name": "stdout",
     "output_type": "stream",
     "text": [
      "Processing departments\n",
      "Processing categories\n",
      "Processing orders\n",
      "Processing products\n",
      "Processing customers\n",
      "Processing order_items\n"
     ]
    }
   ],
   "source": [
    "process_files()"
   ]
  },
  {
   "cell_type": "code",
   "execution_count": null,
   "metadata": {},
   "outputs": [],
   "source": []
  }
 ],
 "metadata": {
  "kernelspec": {
   "display_name": "Python 3",
   "language": "python",
   "name": "python3"
  },
  "language_info": {
   "codemirror_mode": {
    "name": "ipython",
    "version": 3
   },
   "file_extension": ".py",
   "mimetype": "text/x-python",
   "name": "python",
   "nbconvert_exporter": "python",
   "pygments_lexer": "ipython3",
   "version": "3.12.4"
  }
 },
 "nbformat": 4,
 "nbformat_minor": 2
}
